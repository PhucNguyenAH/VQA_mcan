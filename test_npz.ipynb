{
 "cells": [
  {
   "cell_type": "code",
   "execution_count": 2,
   "metadata": {},
   "outputs": [],
   "source": [
    "import numpy as np\n",
    "import glob"
   ]
  },
  {
   "cell_type": "code",
   "execution_count": 10,
   "metadata": {},
   "outputs": [
    {
     "name": "stdout",
     "output_type": "stream",
     "text": [
      "./datasets/coco_extract/test2015/COCO_test2015_000000010868.jpg.npz\n",
      "[  0.      217.86075 490.15167 479.2    ]\n",
      "90\n",
      "43\n",
      "639\n",
      "462\n",
      "(32, 2048)\n",
      "(2048,)\n"
     ]
    }
   ],
   "source": [
    "count = 0\n",
    "for filename in glob.glob(\"./datasets/coco_extract/test2015/*.npz\"):\n",
    "    print(filename)\n",
    "    img_feat = np.load(filename)\n",
    "    print(img_feat['bbox'][0])\n",
    "    bot = int(img_feat['bbox'][1][0])\n",
    "    left = int(img_feat['bbox'][1][1])\n",
    "    top = int(img_feat['bbox'][1][2])\n",
    "    right = int(img_feat['bbox'][1][3])\n",
    "    print(bot)\n",
    "    print(left)\n",
    "    print(top)\n",
    "    print(right)\n",
    "    img_feat = img_feat['x'].transpose((1, 0))\n",
    "    print(img_feat.shape)\n",
    "    print(img_feat[0].shape)\n",
    "    count +=1\n",
    "    if count == 1:\n",
    "        break"
   ]
  },
  {
   "cell_type": "code",
   "execution_count": null,
   "metadata": {},
   "outputs": [],
   "source": []
  }
 ],
 "metadata": {
  "interpreter": {
   "hash": "31f2aee4e71d21fbe5cf8b01ff0e069b9275f58929596ceb00d14d90e3e16cd6"
  },
  "kernelspec": {
   "display_name": "Python 3.6.9 64-bit",
   "name": "python3"
  },
  "language_info": {
   "codemirror_mode": {
    "name": "ipython",
    "version": 3
   },
   "file_extension": ".py",
   "mimetype": "text/x-python",
   "name": "python",
   "nbconvert_exporter": "python",
   "pygments_lexer": "ipython3",
   "version": "3.6.9"
  },
  "orig_nbformat": 4
 },
 "nbformat": 4,
 "nbformat_minor": 2
}
